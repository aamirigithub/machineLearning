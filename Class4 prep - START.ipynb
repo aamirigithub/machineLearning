{
 "cells": [
  {
   "cell_type": "markdown",
   "metadata": {},
   "source": [
    "# Class 4 Prep: Model Evaluation, Hyperparameter Tuning, and Using Pipeline\n",
    "\n",
    "<font size=4> Reference: Chapter 6 of <i>Python Machine Learning</i> </font>"
   ]
  },
  {
   "cell_type": "markdown",
   "metadata": {},
   "source": [
    "<div class=\"alert alert-block alert-info\"><font color=\"#000000\">\n",
    "Before you start, in Command mode, press <b>H</b> to review shortcuts or review Class 1 prep video for using Jupyter Notebook efficiently.\n",
    "</font></div>"
   ]
  },
  {
   "cell_type": "code",
   "execution_count": 1,
   "metadata": {},
   "outputs": [
    {
     "data": {
      "text/html": [
       "<style>.container { width:100% !important; }</style>"
      ],
      "text/plain": [
       "<IPython.core.display.HTML object>"
      ]
     },
     "metadata": {},
     "output_type": "display_data"
    }
   ],
   "source": [
    "# More workspace\n",
    "from IPython.display import display, HTML\n",
    "display(HTML(\"<style>.container { width:100% !important; }</style>\"))"
   ]
  },
  {
   "cell_type": "markdown",
   "metadata": {},
   "source": [
    "<div class=\"alert alert-block alert-info\"><font color=\"#000000\">\n",
    "\n",
    "In this notebook, we use the wine dataset from https://archive.ics.uci.edu/ml/datasets/wine. The dataset contains the results of a chemical analysis performed on 178 samples of wines produced in the same region of Italy, but derived from three different cultivars. The analysis determined the amounts of 13 constituents found in the wines. <b>We would like the machine to learn about the 13 features in the dataset and predict the wine variety.</b>\n",
    "    \n",
    "<font color=\"#0000C0\" size=4><b>Define ML task: To classify wine variety</b></font>\n",
    "    \n",
    "As before, we first import commonly used libraries, and import the wine dataset as a pandas dataframe.\n",
    "</font></div>"
   ]
  },
  {
   "cell_type": "code",
   "execution_count": 2,
   "metadata": {},
   "outputs": [],
   "source": [
    "import numpy as np\n",
    "import pandas as pd\n",
    "import matplotlib.pyplot as plt\n",
    "np.set_printoptions(suppress=True, linewidth=200)\n",
    "\n",
    "winedf = pd.read_csv(\"wine.csv\")"
   ]
  },
  {
   "cell_type": "markdown",
   "metadata": {},
   "source": [
    "<div class=\"alert alert-block alert-info\"><font color=\"#000000\">\n",
    "Highly recommended exercise: <b>Uncomment the following codes one line at a time and review commonly-used operations on pandas dataframe.</b>\n",
    "Try using shortcuts: \n",
    "<b>Ctrl-Enter</b> (run and see the output) \n",
    "    $\\rightarrow$  <b>Enter</b> (go back to the point of edit)\n",
    "    $\\rightarrow$  <b>Ctrl-Z</b> (undo), <b>uncomment</b> the next line\n",
    "    $\\rightarrow$  <b>Ctrl-Enter</b> to run.  Repeat this process.\n",
    "</font></div>"
   ]
  },
  {
   "cell_type": "code",
   "execution_count": 3,
   "metadata": {},
   "outputs": [],
   "source": [
    "# Try each line below to review some commonly used commands for pandas dataframe\n",
    "#winedf\n",
    "#winedf.shape                          # number of rows and columns\n",
    "#winedf.describe()                     # summary statistics\n",
    "#winedf.head()                         # top rows of the dataframe\n",
    "#pd.options.display.max_rows=200       # Try max_rows = 200, 50, 20, etc. to see the effect on next a few lines\n",
    "#winedf\n",
    "#winedf.loc[:, ['Class label', 'Alcohol', 'Malic acid']]   # select data by column label\n",
    "#winedf.iloc[:, :3]                    # slicing columns by index (select columns 0 to 2, excluding column 3)\n",
    "#winedf.iloc[:, 1:3]                   # slicing columns by index (index starts from 0; column 1 is the 2nd column)\n",
    "#winedf.iloc[5:10, :]                 # slicing rows by index (select rows 5 to 9, excluding row 10)\n",
    "#winedf['Class label'].value_counts()  # count observations for each class label\n",
    "#winedf['Class label'].value_counts(sort=False)  # more info: https://pandas.pydata.org/pandas-docs/stable/reference/api/pandas.Series.value_counts.html\n",
    "#np.unique(winedf['Class label'])      # find unique values in a series\n",
    "#np.bincount(winedf['Class label'])    # count number of occurrences of each non-negative integer"
   ]
  },
  {
   "cell_type": "markdown",
   "metadata": {},
   "source": [
    "## <font color=\"#0000E0\"> Data Preprocessing </font>\n",
    "\n",
    "<div class=\"alert alert-block alert-info\"><font color=\"#000000\">\n",
    "We learned the following block of codes in Class 2; please review.\n",
    "    The only difference is that we <b>omit to_numpy()</b> when defining X and y, so that X is a pandas dataframe and y is a pandas series (you may print them to check).  Using padas data instead of numpy arrays will slightly increase running time (unnoticeable for small dataset) but <b>useful in many future applications when column data types are mixed or when we need column names</b>.\n",
    "</font></div>"
   ]
  },
  {
   "cell_type": "code",
   "execution_count": 4,
   "metadata": {},
   "outputs": [],
   "source": [
    "# Define Predictors and Target Variable\n",
    "X = winedf.iloc[:, 1:]\n",
    "y = winedf.loc[:, 'Class label']\n",
    "\n",
    "# Splitting Data into Training Set and Test Set\n",
    "from sklearn.model_selection import train_test_split\n",
    "X_train, X_test, y_train, y_test = train_test_split(X, y, test_size=0.3, \n",
    "                                                    stratify=y, random_state=0)\n",
    "\n",
    "# Standardizing data\n",
    "from sklearn.preprocessing import StandardScaler\n",
    "sc = StandardScaler()\n",
    "sc.fit(X_train)\n",
    "X_train_std = sc.transform(X_train)\n",
    "X_test_std = sc.transform(X_test)\n",
    "\n",
    "# Create a support vector machine with Gaussian kernel, \n",
    "# with some initial hyperparameter values\n",
    "from sklearn.svm import SVC\n",
    "svm = SVC(kernel='rbf', C=10, gamma=1)"
   ]
  },
  {
   "cell_type": "markdown",
   "metadata": {},
   "source": [
    "## <font color=\"#0000E0\"> Hyperparameters </font>\n",
    "\n",
    "<div class=\"alert alert-block alert-info\"><font color=\"#000000\">\n",
    "We can get a list of all the hyperparameters of the SVM model we just created by printing the model or calling <b>get_params()</b> function.  The hyperparameters are ordered alphabetically.  \n",
    "    \n",
    "There are two types of hyperparameters:\n",
    "\n",
    "- Hyperparameters that control model performance:  C, class_weight, kernel, gamma, (coef0 and degree are not used for Gaussian kernel)\n",
    "\n",
    "- The rest of the hyperparameters control algorithm\n",
    "\n",
    "We use Gaussian kernel as an example, so we will focus on tuning the hyperparameter gamma.\n",
    "</font></div>"
   ]
  },
  {
   "cell_type": "code",
   "execution_count": 5,
   "metadata": {},
   "outputs": [
    {
     "data": {
      "text/plain": [
       "SVC(C=10, gamma=1)"
      ]
     },
     "execution_count": 5,
     "metadata": {},
     "output_type": "execute_result"
    }
   ],
   "source": [
    "svm"
   ]
  },
  {
   "cell_type": "code",
   "execution_count": 6,
   "metadata": {},
   "outputs": [
    {
     "data": {
      "text/plain": [
       "{'C': 10,\n",
       " 'break_ties': False,\n",
       " 'cache_size': 200,\n",
       " 'class_weight': None,\n",
       " 'coef0': 0.0,\n",
       " 'decision_function_shape': 'ovr',\n",
       " 'degree': 3,\n",
       " 'gamma': 1,\n",
       " 'kernel': 'rbf',\n",
       " 'max_iter': -1,\n",
       " 'probability': False,\n",
       " 'random_state': None,\n",
       " 'shrinking': True,\n",
       " 'tol': 0.001,\n",
       " 'verbose': False}"
      ]
     },
     "execution_count": 6,
     "metadata": {},
     "output_type": "execute_result"
    }
   ],
   "source": [
    "svm.get_params()"
   ]
  },
  {
   "cell_type": "markdown",
   "metadata": {},
   "source": [
    "## <font color=\"#0000E0\"> Model Evaluation Using 10-Fold Cross Validation </font>\n",
    "\n",
    "<div class=\"alert alert-block alert-info\"><font color=\"#000000\">\n",
    "We evaluate the above SVM model using 10-fold cross validation method.  We use the function <b>cross_val_score()</b> to accomplish the following:\n",
    "\n",
    "1. Split the <b>training set</b> (X_train_std, y_train) into 10 folds\n",
    "\n",
    "2. Train the above SVM (defined by its hyperparameters) 10 times, each time using 9 folds and evaluating the model using 1 fold\n",
    "\n",
    "3. Return the 10 evaluation scores\n",
    "    \n",
    "<b> All of the above jobs can be done in one line of code using <b>cross_val_score()</b>.</b>\n",
    "Visit https://scikit-learn.org/stable/modules/generated/sklearn.model_selection.cross_val_score.html, and please read the explanations for these arguments: <b>estimator, X, y, scoring, cv</b>.  Important: When reading this linked resource, you should interpret 'test set' as the validation fold, and 'training set' as the 9 training folds.\n",
    "</font></div>\n",
    "\n",
    "<img src=\"Cross-validation.png\" width=\"700\">"
   ]
  },
  {
   "cell_type": "code",
   "execution_count": 7,
   "metadata": {},
   "outputs": [
    {
     "name": "stdout",
     "output_type": "stream",
     "text": [
      "10-fold cross validation accuracy: [0.46153846 0.53846154 0.69230769 0.46153846 0.75       0.58333333 0.58333333 0.5        0.58333333 0.75      ]\n",
      "\n",
      "Mean  of the 10 validation accuracies:  0.5903846153846154 \n",
      "Stdev of the 10 validation accuracies:  0.10274223313432508\n"
     ]
    }
   ],
   "source": [
    "from sklearn.model_selection import cross_val_score\n",
    "\n",
    "scores = cross_val_score(estimator=svm, X=X_train_std, y=y_train, cv=10, \n",
    "                         scoring='accuracy')\n",
    "\n",
    "print('10-fold cross validation accuracy:', scores)\n",
    "print('\\nMean  of the 10 validation accuracies: ', np.mean(scores),\n",
    "      '\\nStdev of the 10 validation accuracies: ', np.std(scores))"
   ]
  },
  {
   "cell_type": "markdown",
   "metadata": {},
   "source": [
    "<div class=\"alert alert-block alert-success\"><font color=\"#000000\">\n",
    "Remarks:\n",
    "    \n",
    "- We ensure that the model is evaluated using only the training set by using the keyword argument <b>X=X_train_std</b> when calling <b>cross_val_score()</b>.  Here, <b>X</b> is not our data; review Class 1 prep to understand keyword arguments.\n",
    "</font></div>"
   ]
  },
  {
   "cell_type": "markdown",
   "metadata": {},
   "source": [
    "### <font color=\"#C07010\">  Optional exercise: Cross validation revealed </font>\n",
    "\n",
    "<div class=\"alert alert-block alert-warning\">\n",
    "The following block of codes reveals how <b>cross_val_score()</b> works and generates the same validation accuracies.  The code involves some advanced loop control, which may be interesting to you if you'd like to gain more Python programming skills.\n",
    "</div>"
   ]
  },
  {
   "cell_type": "code",
   "execution_count": 8,
   "metadata": {},
   "outputs": [
    {
     "name": "stdout",
     "output_type": "stream",
     "text": [
      "Fold | Validation set class dist. | Validation accuracy\n",
      "  1  |          [4 5 4]           |      0.46153846\n",
      "  2  |          [4 5 4]           |      0.53846154\n",
      "  3  |          [4 5 4]           |      0.69230769\n",
      "  4  |          [5 5 3]           |      0.46153846\n",
      "  5  |          [4 5 3]           |      0.75000000\n",
      "  6  |          [4 5 3]           |      0.58333333\n",
      "  7  |          [4 5 3]           |      0.58333333\n",
      "  8  |          [4 5 3]           |      0.50000000\n",
      "  9  |          [4 5 3]           |      0.58333333\n",
      " 10  |          [4 5 3]           |      0.75000000\n",
      "     | Total: [41 50 33]          | Avg: 0.59038461538\n"
     ]
    }
   ],
   "source": [
    "# Split data into 10 folds: stratification allows each fold to have about the same proportion of classes as in the dataset\n",
    "from sklearn.model_selection import StratifiedKFold\n",
    "kfold = StratifiedKFold(n_splits=10).split(X_train_std, y_train)\n",
    "\n",
    "scores = []\n",
    "print('Fold | Validation set class dist. | Validation accuracy')\n",
    "\n",
    "# Loop 10 times, each time we train SVM using 90% of the training data and we test SVM using the remaining 10%\n",
    "for k, (train_idx, val_idx) in enumerate(kfold):\n",
    "    svm.fit(X_train_std[train_idx], y_train.iloc[train_idx])\n",
    "    score = svm.score(X_train_std[val_idx], y_train.iloc[val_idx])\n",
    "    scores.append(score)\n",
    "    print(' %2d  |          %s           |      %.8f' \n",
    "          % (k+1, np.bincount(y_train.iloc[val_idx].astype('int32'))[1:], score))\n",
    "\n",
    "print('     | Total: %s          | Avg: %.11f' \n",
    "      %(np.bincount(y_train.astype('int32'))[1:], np.mean(scores)))\n",
    "      \n",
    "      # np.std(scores))"
   ]
  },
  {
   "cell_type": "markdown",
   "metadata": {},
   "source": [
    "## <font color=\"#0000E0\"> Validation Curve: Model performance as a function of hyperparameter values </font>\n",
    "\n",
    "<div class=\"alert alert-block alert-info\"><font color=\"#000000\">\n",
    "\n",
    "\n",
    "The above function <b>cross_val_score()</b> only evaluates the model under given hyperparameters.\n",
    "\n",
    "To tune hyperparameters, we could call cross_val_score() repeatedly or, more conveniently, call validation_curve().  <b>validation_curve() repeats cross_val_score() for a range of hyperparameter values</b>.  It not only returns the validation scores but also the training scores (on 9 training folds).\n",
    "\n",
    "Please read https://scikit-learn.org/stable/modules/generated/sklearn.model_selection.validation_curve.html.\n",
    "Important: When reading this linked resource, you should interpret 'test set' as the validation fold, and 'training set' as the 9 training folds.\n",
    "</font></div>"
   ]
  },
  {
   "cell_type": "code",
   "execution_count": 9,
   "metadata": {},
   "outputs": [
    {
     "name": "stdout",
     "output_type": "stream",
     "text": [
      "val_scores from 7 hyperparameter values (rows) and 10 folds (columns):\n",
      "\n"
     ]
    },
    {
     "data": {
      "text/html": [
       "<div>\n",
       "<style scoped>\n",
       "    .dataframe tbody tr th:only-of-type {\n",
       "        vertical-align: middle;\n",
       "    }\n",
       "\n",
       "    .dataframe tbody tr th {\n",
       "        vertical-align: top;\n",
       "    }\n",
       "\n",
       "    .dataframe thead th {\n",
       "        text-align: right;\n",
       "    }\n",
       "</style>\n",
       "<table border=\"1\" class=\"dataframe\">\n",
       "  <thead>\n",
       "    <tr style=\"text-align: right;\">\n",
       "      <th></th>\n",
       "      <th>E1</th>\n",
       "      <th>E2</th>\n",
       "      <th>E3</th>\n",
       "      <th>E4</th>\n",
       "      <th>E5</th>\n",
       "      <th>E6</th>\n",
       "      <th>E7</th>\n",
       "      <th>E8</th>\n",
       "      <th>E9</th>\n",
       "      <th>E10</th>\n",
       "      <th>Average E</th>\n",
       "    </tr>\n",
       "  </thead>\n",
       "  <tbody>\n",
       "    <tr>\n",
       "      <th>0.00001</th>\n",
       "      <td>0.384615</td>\n",
       "      <td>0.384615</td>\n",
       "      <td>0.384615</td>\n",
       "      <td>0.384615</td>\n",
       "      <td>0.416667</td>\n",
       "      <td>0.416667</td>\n",
       "      <td>0.416667</td>\n",
       "      <td>0.416667</td>\n",
       "      <td>0.416667</td>\n",
       "      <td>0.416667</td>\n",
       "      <td>0.403846</td>\n",
       "    </tr>\n",
       "    <tr>\n",
       "      <th>0.00010</th>\n",
       "      <td>0.692308</td>\n",
       "      <td>0.692308</td>\n",
       "      <td>0.538462</td>\n",
       "      <td>0.769231</td>\n",
       "      <td>0.916667</td>\n",
       "      <td>0.583333</td>\n",
       "      <td>0.666667</td>\n",
       "      <td>0.750000</td>\n",
       "      <td>0.750000</td>\n",
       "      <td>0.750000</td>\n",
       "      <td>0.710897</td>\n",
       "    </tr>\n",
       "    <tr>\n",
       "      <th>0.00100</th>\n",
       "      <td>1.000000</td>\n",
       "      <td>0.923077</td>\n",
       "      <td>0.846154</td>\n",
       "      <td>1.000000</td>\n",
       "      <td>0.916667</td>\n",
       "      <td>0.916667</td>\n",
       "      <td>0.916667</td>\n",
       "      <td>1.000000</td>\n",
       "      <td>1.000000</td>\n",
       "      <td>1.000000</td>\n",
       "      <td>0.951923</td>\n",
       "    </tr>\n",
       "    <tr>\n",
       "      <th>0.01000</th>\n",
       "      <td>0.923077</td>\n",
       "      <td>1.000000</td>\n",
       "      <td>0.923077</td>\n",
       "      <td>1.000000</td>\n",
       "      <td>0.916667</td>\n",
       "      <td>0.916667</td>\n",
       "      <td>0.916667</td>\n",
       "      <td>0.916667</td>\n",
       "      <td>1.000000</td>\n",
       "      <td>1.000000</td>\n",
       "      <td>0.951282</td>\n",
       "    </tr>\n",
       "    <tr>\n",
       "      <th>0.10000</th>\n",
       "      <td>0.923077</td>\n",
       "      <td>1.000000</td>\n",
       "      <td>0.923077</td>\n",
       "      <td>1.000000</td>\n",
       "      <td>1.000000</td>\n",
       "      <td>1.000000</td>\n",
       "      <td>0.916667</td>\n",
       "      <td>1.000000</td>\n",
       "      <td>1.000000</td>\n",
       "      <td>1.000000</td>\n",
       "      <td>0.976282</td>\n",
       "    </tr>\n",
       "    <tr>\n",
       "      <th>1.00000</th>\n",
       "      <td>0.461538</td>\n",
       "      <td>0.538462</td>\n",
       "      <td>0.692308</td>\n",
       "      <td>0.461538</td>\n",
       "      <td>0.750000</td>\n",
       "      <td>0.583333</td>\n",
       "      <td>0.583333</td>\n",
       "      <td>0.500000</td>\n",
       "      <td>0.583333</td>\n",
       "      <td>0.750000</td>\n",
       "      <td>0.590385</td>\n",
       "    </tr>\n",
       "    <tr>\n",
       "      <th>10.00000</th>\n",
       "      <td>0.384615</td>\n",
       "      <td>0.384615</td>\n",
       "      <td>0.384615</td>\n",
       "      <td>0.384615</td>\n",
       "      <td>0.416667</td>\n",
       "      <td>0.416667</td>\n",
       "      <td>0.416667</td>\n",
       "      <td>0.416667</td>\n",
       "      <td>0.416667</td>\n",
       "      <td>0.416667</td>\n",
       "      <td>0.403846</td>\n",
       "    </tr>\n",
       "  </tbody>\n",
       "</table>\n",
       "</div>"
      ],
      "text/plain": [
       "                E1        E2        E3        E4        E5        E6  \\\n",
       "0.00001   0.384615  0.384615  0.384615  0.384615  0.416667  0.416667   \n",
       "0.00010   0.692308  0.692308  0.538462  0.769231  0.916667  0.583333   \n",
       "0.00100   1.000000  0.923077  0.846154  1.000000  0.916667  0.916667   \n",
       "0.01000   0.923077  1.000000  0.923077  1.000000  0.916667  0.916667   \n",
       "0.10000   0.923077  1.000000  0.923077  1.000000  1.000000  1.000000   \n",
       "1.00000   0.461538  0.538462  0.692308  0.461538  0.750000  0.583333   \n",
       "10.00000  0.384615  0.384615  0.384615  0.384615  0.416667  0.416667   \n",
       "\n",
       "                E7        E8        E9       E10  Average E  \n",
       "0.00001   0.416667  0.416667  0.416667  0.416667   0.403846  \n",
       "0.00010   0.666667  0.750000  0.750000  0.750000   0.710897  \n",
       "0.00100   0.916667  1.000000  1.000000  1.000000   0.951923  \n",
       "0.01000   0.916667  0.916667  1.000000  1.000000   0.951282  \n",
       "0.10000   0.916667  1.000000  1.000000  1.000000   0.976282  \n",
       "1.00000   0.583333  0.500000  0.583333  0.750000   0.590385  \n",
       "10.00000  0.416667  0.416667  0.416667  0.416667   0.403846  "
      ]
     },
     "metadata": {},
     "output_type": "display_data"
    }
   ],
   "source": [
    "from sklearn.model_selection import validation_curve\n",
    "\n",
    "param_range = [0.00001, 0.0001, 0.001, 0.01, 0.1, 1, 10]\n",
    "#param_range = np.logspace(-5, 1, 25)\n",
    "\n",
    "train_scores, val_scores = validation_curve(estimator=svm, \n",
    "                    X=X_train_std, y=y_train, cv=10,\n",
    "                    param_name='gamma',      # the hyperparameter to be varied\n",
    "                    param_range=param_range, # the hyperparameter values (defined above)\n",
    "                    scoring='accuracy')\n",
    "\n",
    "# Printing results\n",
    "print('val_scores from %d hyperparameter values (rows) and %d folds (columns):\\n'\n",
    "      % val_scores.shape)\n",
    "display(pd.DataFrame(np.c_[ val_scores, np.mean(val_scores, axis=1) ], \n",
    "                     index=param_range, \n",
    "                     columns=['E'+str(x) for x in np.arange(10)+1] + ['Average E']))\n",
    "# Alternative print:\n",
    "# with np.printoptions(precision=5): print(val_scores)\n",
    "# print('\\nAverage val score (row averages): ', np.mean(val_scores, axis=1))"
   ]
  },
  {
   "cell_type": "markdown",
   "metadata": {},
   "source": [
    "<div class=\"alert alert-block alert-success\"><font color=\"#000000\">\n",
    "Remarks:\n",
    "    \n",
    "- You can check the consistency between the results from <b>validation_curve()</b> and the results from <b>cross_val_score()</b>: Compare the last output for gamma=1 with the earlier output from cross_val_score().\n",
    "\n",
    "- <b>train_scores</b> and <b>val_scores</b> returned from validation_curve() are tables with the number of rows equal to the number of hyperparameter values in 'param_range', and each row contains 10 accuracies, as the evaluation was performed 10 times. The average of the 10 scores (row average) is the performance measure for the model under a given hyperparameter value.  Refer to the 10-fold cross validation figure above.\n",
    "\n",
    "- Row is a table's first dimension or '<b>axis 0</b>' in <b>numpy</b>, and column is its second dimension or '<b>axis 1</b>'.  Thus, to obtain row average, we take the average of the 10 numbers along 'axis 1'.\n",
    "</font></div>"
   ]
  },
  {
   "cell_type": "markdown",
   "metadata": {},
   "source": [
    "## <font color=\"#0000E0\"> Plot Validation Curve </font>\n",
    "\n",
    "<div class=\"alert alert-block alert-info\"><font color=\"#000000\">\n",
    "In addition to plotting the average accuracy, we also plot the one-stdev band.\n",
    "</font></div>"
   ]
  },
  {
   "cell_type": "code",
   "execution_count": 10,
   "metadata": {},
   "outputs": [
    {
     "data": {
      "image/png": "[encoded data removed]",
      "text/plain": [
       "<Figure size 864x432 with 1 Axes>"
      ]
     },
     "metadata": {
      "needs_background": "light"
     },
     "output_type": "display_data"
    }
   ],
   "source": [
    "trn_mean = np.mean(train_scores, axis=1)\n",
    "trn_std  = np.std (train_scores, axis=1)\n",
    "val_mean = np.mean(val_scores, axis=1)\n",
    "val_std  = np.std (val_scores, axis=1)\n",
    "\n",
    "plt.figure(figsize=(12,6))\n",
    "\n",
    "plt.plot(param_range, trn_mean, 'bo-',  markersize=5, label='training accuracy')\n",
    "plt.fill_between(param_range, trn_mean+trn_std, trn_mean-trn_std, alpha=0.25, color='blue')\n",
    "\n",
    "plt.plot(param_range, val_mean, 'gs--', markersize=5, label='validation accuracy')\n",
    "plt.fill_between(param_range, val_mean+val_std, val_mean-val_std, alpha=0.15, color='green')\n",
    "\n",
    "plt.grid()\n",
    "plt.xscale('log')  # use logarithmic scale\n",
    "plt.legend(loc='lower center', fontsize=14)\n",
    "plt.xlabel('Hyperparameter gamma', fontsize=14)\n",
    "plt.ylabel('Accuracy', fontsize=14)\n",
    "#plt.savefig('val_curve_wine')  # save the picture as a file\n",
    "plt.show()"
   ]
  },
  {
   "cell_type": "markdown",
   "metadata": {},
   "source": [
    "## <font color=\"#0000E0\"> Model Selection, Retrain, and Final Test </font>\n",
    "\n",
    "<div class=\"alert alert-block alert-info\"><font color=\"#000000\">\n",
    "We can certainly refine the validation curve by using more values of gamma (please try as an exercise), but let's suppose we decide to use the SVM model with hyperparameter gamma = 0.1.  \n",
    "    \n",
    "Up until this point, the model was trained using 90% of training data, because we need the validation set to help with tuning gamma.  Now that gamma is tuned, we should <b>retrain</b> this SVM using the <b>entire training set</b>.  After that, we will finally use our <b>test set (which has never been seen by the model)</b> to get an unbiased estimate for the model generalization performance.\n",
    "</font></div>"
   ]
  },
  {
   "cell_type": "code",
   "execution_count": 11,
   "metadata": {},
   "outputs": [
    {
     "name": "stdout",
     "output_type": "stream",
     "text": [
      "Final training accuracy: 1.0\n",
      "Final test accuracy: 1.0\n"
     ]
    }
   ],
   "source": [
    "# Model selection: Set the chosen hyperparameter values\n",
    "svm.set_params(gamma = 0.1)\n",
    "\n",
    "# Retrain\n",
    "svm.fit( X_train_std, y_train )\n",
    "\n",
    "# Final Test\n",
    "print('Final training accuracy:', svm.score(X_train_std, y_train))\n",
    "print('Final test accuracy:',     svm.score(X_test_std, y_test))"
   ]
  },
  {
   "cell_type": "markdown",
   "metadata": {},
   "source": [
    "## Appendix: Compare codes with and without pipeline"
   ]
  },
  {
   "cell_type": "code",
   "execution_count": 12,
   "metadata": {},
   "outputs": [],
   "source": [
    "import numpy as np\n",
    "import pandas as pd\n",
    "import matplotlib.pyplot as plt\n",
    "np.set_printoptions(suppress=True, linewidth=200)\n",
    "\n",
    "from sklearn.preprocessing import StandardScaler\n",
    "from sklearn.svm import SVC\n",
    "from sklearn.linear_model import LogisticRegression\n",
    "from sklearn.decomposition import PCA\n",
    "from sklearn.discriminant_analysis import LinearDiscriminantAnalysis as LDA\n",
    "from sklearn.pipeline import make_pipeline, Pipeline\n",
    "\n",
    "winedf = pd.read_csv(\"wine.csv\")\n",
    "\n",
    "# Define Predictors and Target Variable\n",
    "X = winedf.iloc[:, 1:]\n",
    "y = winedf.loc[:, 'Class label']\n",
    "\n",
    "# Splitting Data into Training Set and Test Set\n",
    "from sklearn.model_selection import train_test_split\n",
    "X_train, X_test, y_train, y_test = train_test_split(X, y, test_size=0.3, \n",
    "                                                    stratify=y, random_state=8)"
   ]
  },
  {
   "cell_type": "markdown",
   "metadata": {},
   "source": [
    "### Without pipeline"
   ]
  },
  {
   "cell_type": "code",
   "execution_count": 13,
   "metadata": {},
   "outputs": [
    {
     "name": "stdout",
     "output_type": "stream",
     "text": [
      "predicted class: [1 1 2 1 3 3 2 2 1 2 3 3 2 1 2 2 3 2 2 1 1 3 2 2 1 2 1 1 1 2 3 3 2 2 3 3 2 2 3 1 3 1 2 1 1 1 2 1 3 1 1 3 3 2]\n",
      "actual class:    [1 1 2 1 3 3 2 2 2 2 3 3 2 1 2 2 3 2 2 1 1 3 2 2 1 2 1 1 1 2 3 3 2 2 3 3 2 2 3 1 3 1 2 1 1 1 2 1 3 1 1 3 3 2]\n",
      "test accuracy:   0.9814814814814815\n",
      "\n",
      "model parameters:  [-1.23800589 -0.97665768 -2.05298517] \n",
      " [[ 1.5593705   1.49726536]\n",
      " [-0.20018916 -2.73326551]\n",
      " [-1.17122691  1.33975142]]\n"
     ]
    }
   ],
   "source": [
    "sc = StandardScaler()\n",
    "sc.fit(X_train)\n",
    "X_train_std = sc.transform(X_train)\n",
    "\n",
    "lda = LDA(n_components=2)\n",
    "lda.fit(X_train_std, y_train)\n",
    "X_train_reduced = lda.transform(X_train_std)\n",
    "\n",
    "lr = LogisticRegression(C=1, solver='liblinear', multi_class='ovr')\n",
    "lr.fit(X_train_reduced, y_train)\n",
    "\n",
    "X_test_std  = sc.transform(X_test)\n",
    "X_test_reduced  = lda.transform(X_test_std)\n",
    "\n",
    "print(\"predicted class:\", lr.predict(X_test_reduced))\n",
    "print(\"actual class:   \", np.array(y_test))\n",
    "print(\"test accuracy:  \", lr.score(X_test_reduced, y_test))\n",
    "print(\"\\nmodel parameters: \", lr.intercept_, '\\n', lr.coef_)"
   ]
  },
  {
   "cell_type": "markdown",
   "metadata": {},
   "source": [
    "### With pipeline"
   ]
  },
  {
   "cell_type": "code",
   "execution_count": 14,
   "metadata": {
    "scrolled": true
   },
   "outputs": [
    {
     "name": "stdout",
     "output_type": "stream",
     "text": [
      "predicted class: [1 1 2 1 3 3 2 2 1 2 3 3 2 1 2 2 3 2 2 1 1 3 2 2 1 2 1 1 1 2 3 3 2 2 3 3 2 2 3 1 3 1 2 1 1 1 2 1 3 1 1 3 3 2]\n",
      "actual class:    [1 1 2 1 3 3 2 2 2 2 3 3 2 1 2 2 3 2 2 1 1 3 2 2 1 2 1 1 1 2 3 3 2 2 3 3 2 2 3 1 3 1 2 1 1 1 2 1 3 1 1 3 3 2]\n",
      "test accuracy:   0.9814814814814815\n",
      "\n",
      "model parameters:  [-1.23800589 -0.97665768 -2.05298517] \n",
      " [[ 1.5593705   1.49726536]\n",
      " [-0.20018916 -2.73326551]\n",
      " [-1.17122691  1.33975142]]\n"
     ]
    }
   ],
   "source": [
    "pipe = make_pipeline(StandardScaler(),\n",
    "                     LDA(n_components=2),\n",
    "                     LogisticRegression(C=1, solver='liblinear', multi_class='ovr'))\n",
    "pipe.fit(X_train, y_train)\n",
    "print(\"predicted class:\", pipe.predict(X_test))\n",
    "print(\"actual class:   \", np.array(y_test))\n",
    "print(\"test accuracy:  \", pipe.score(X_test, y_test))\n",
    "\n",
    "lr = pipe.named_steps.logisticregression\n",
    "print(\"\\nmodel parameters: \", lr.intercept_, '\\n', lr.coef_)"
   ]
  },
  {
   "cell_type": "markdown",
   "metadata": {},
   "source": [
    "### Alternative pipeline constructor"
   ]
  },
  {
   "cell_type": "code",
   "execution_count": 15,
   "metadata": {
    "scrolled": false
   },
   "outputs": [
    {
     "name": "stdout",
     "output_type": "stream",
     "text": [
      "predicted class: [1 1 2 1 3 3 2 2 1 2 3 3 2 1 2 2 3 2 2 1 1 3 2 2 1 2 1 1 1 2 3 3 2 2 3 3 2 2 3 1 3 1 2 1 1 1 2 1 3 1 1 3 3 2]\n",
      "actual class:    [1 1 2 1 3 3 2 2 2 2 3 3 2 1 2 2 3 2 2 1 1 3 2 2 1 2 1 1 1 2 3 3 2 2 3 3 2 2 3 1 3 1 2 1 1 1 2 1 3 1 1 3 3 2]\n",
      "test accuracy:   0.9814814814814815\n",
      "\n",
      "model parameters:  [-1.23800589 -0.97665768 -2.05298517] \n",
      " [[ 1.5593705   1.49726536]\n",
      " [-0.20018916 -2.73326551]\n",
      " [-1.17122691  1.33975142]]\n"
     ]
    }
   ],
   "source": [
    "pipe = Pipeline([\n",
    "    ('sc', StandardScaler()), \n",
    "    ('lda', LDA(n_components=2)),\n",
    "    ('lr', LogisticRegression(C=1, solver='liblinear', multi_class='ovr'))\n",
    "])\n",
    "pipe.fit(X_train, y_train)\n",
    "print(\"predicted class:\", pipe.predict(X_test))\n",
    "print(\"actual class:   \", np.array(y_test))\n",
    "print(\"test accuracy:  \", pipe.score(X_test, y_test))\n",
    "\n",
    "lr = pipe.named_steps.lr\n",
    "print(\"\\nmodel parameters: \", lr.intercept_, '\\n', lr.coef_)"
   ]
  }
 ],
 "metadata": {
  "kernelspec": {
   "display_name": "Python 3 (ipykernel)",
   "language": "python",
   "name": "python3"
  },
  "language_info": {
   "codemirror_mode": {
    "name": "ipython",
    "version": 3
   },
   "file_extension": ".py",
   "mimetype": "text/x-python",
   "name": "python",
   "nbconvert_exporter": "python",
   "pygments_lexer": "ipython3",
   "version": "3.8.3"
  }
 },
 "nbformat": 4,
 "nbformat_minor": 2
}
